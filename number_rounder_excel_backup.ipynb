{
 "cells": [
  {
   "cell_type": "code",
   "execution_count": null,
   "metadata": {},
   "outputs": [],
   "source": [
    "# Assuming both have \".\"\n",
    "def in_tree(a: str, b: str):\n",
    "    if a == b: return True\n",
    "    if not \".\" in a or not \".\" in b: return round(float(a)) == round(float(b))\n",
    "    k1, k2 = len(a) - a.find(\".\") - 1, len(b) - b.find(\".\") - 1\n",
    "    a, b = (a.replace(\".\", \"\"), (b.replace(\".\", \"\") + (k1-k2) * \"0\")) if k1 >= k2 else (b.replace(\".\", \"\"), a.replace(\".\", \"\") + (k2-k1) * \"0\")\n",
    "    return int(b) in [round(int(a), i) for i in range(0, -((len(a))), -1)]"
   ]
  },
  {
   "cell_type": "code",
   "execution_count": 2,
   "metadata": {},
   "outputs": [
    {
     "name": "stdout",
     "output_type": "stream",
     "text": [
      "[122029, 122030, 122000, 122000, 120000, 100000]\n",
      "120000\n",
      "True\n"
     ]
    }
   ],
   "source": [
    "print(in_tree(\"12.2029\", \"12.0\"))"
   ]
  },
  {
   "cell_type": "code",
   "execution_count": 3,
   "metadata": {},
   "outputs": [],
   "source": [
    "class ExcelNumber:\n",
    "    \n",
    "    def __init__(self, n: str):\n",
    "        self.n = n\n",
    "    \n",
    "    def __eq__(self, other):\n",
    "        if other.n == self.n: return True\n",
    "        if \".\" not in self.n and \".\" not in other.n: return False\n",
    "        return in_tree(self.n, other.n)\n",
    "        #if \".\" in self.n and (len(self.n) - self.n.find(\".\") >= len(other.n) - other.n.find(\".\") or \".\" not in other.n):\n",
    "        #    numbers_after_dot = len(self.n) - self.n.find(\".\") - 1\n",
    "        #    tree = ([f'%.{i}f' % round(float(self.n)+0.0000000000001, i) for i in range(numbers_after_dot, 0, -1)] + [str(int(round(float(self.n)+0.000000000000, 0)))])\n",
    "        #    print(tree)\n",
    "        #    return other.n in tree\n",
    "        #return other == self"
   ]
  },
  {
   "cell_type": "code",
   "execution_count": 4,
   "metadata": {},
   "outputs": [
    {
     "data": {
      "text/plain": [
       "True"
      ]
     },
     "execution_count": 4,
     "metadata": {},
     "output_type": "execute_result"
    }
   ],
   "source": [
    "ExcelNumber(\"12.2029\") == ExcelNumber(\"12\")"
   ]
  },
  {
   "cell_type": "code",
   "execution_count": 5,
   "metadata": {},
   "outputs": [],
   "source": [
    "def p_eq(a, b):\n",
    "    if a[-1] == \"%\" and b[-1] != \"%\":\n",
    "        return ExcelNumber(b) in [ExcelNumber(str(float(a[:-1])/100)), ExcelNumber(str((a[:-1])))]\n",
    "    if a[-1] == \"%\" and b[-1] == \"%\":\n",
    "        return ExcelNumber(a[:-1]) == ExcelNumber(b[:-1])\n",
    "    return p_eq(b, a)"
   ]
  },
  {
   "cell_type": "code",
   "execution_count": 6,
   "metadata": {},
   "outputs": [
    {
     "name": "stdout",
     "output_type": "stream",
     "text": [
      "[489, 490, 500]\n",
      "05\n",
      "False\n",
      "[489, 490, 500, 0]\n",
      "48900\n",
      "True\n",
      "True\n",
      "True\n"
     ]
    }
   ],
   "source": [
    "print(p_eq(\"48.9%\", \"0.5%\"))\n",
    "print(p_eq(\"48.9\", \"48.9%\"))\n",
    "print(p_eq(\"48.9%\", \"0.489\"))\n",
    "print(p_eq(\"48.9%\", \"0.489\"))"
   ]
  },
  {
   "cell_type": "code",
   "execution_count": 7,
   "metadata": {},
   "outputs": [
    {
     "data": {
      "text/plain": [
       "True"
      ]
     },
     "execution_count": 7,
     "metadata": {},
     "output_type": "execute_result"
    }
   ],
   "source": [
    "ExcelNumber(\"45.6\") == ExcelNumber(\"46\")"
   ]
  },
  {
   "cell_type": "code",
   "execution_count": 8,
   "metadata": {},
   "outputs": [],
   "source": [
    "from enum import Enum\n",
    "from decimal import Decimal, getcontext\n",
    "class Scalar:\n",
    "    class ScalarType(Enum):\n",
    "        K = 1000 \n",
    "        M = 1000000\n",
    "        B = 1000000000\n",
    "        N = 1\n",
    "    \n",
    "    def __init__(self, val, scalar_val: ScalarType):\n",
    "        self.scalar_val : self.ScalarType = scalar_val\n",
    "        self.val = val\n",
    "        \n",
    "    def __eq__(self, other) -> bool:\n",
    "        if  self.scalar_val.value != 1 and other.scalar_val.value != 1:\n",
    "            return ExcelNumber(str(self.val * self.scalar_val.value / 10**9)) == ExcelNumber(str(other.val * other.scalar_val.value / 10**9))\n",
    "        if self.scalar_val.value == 1 and other.scalar_val.value == 1:\n",
    "            k1 = [ExcelNumber(str(Decimal(str(self.val)) * Decimal(str(10 ** -(i * 3))))) for i in range(0, 4)]\n",
    "            k2 = [ExcelNumber(str(Decimal(str(other.val)) * Decimal(str(10 ** -(i * 3))))) for i in range(0, 4)]\n",
    "            for i in k1:\n",
    "                for j in k2:\n",
    "                    if i == j: return True\n",
    "            return False\n",
    "        if self.scalar_val.value == 1:\n",
    "            print(list(ExcelNumber(str(self.val / 10 ** (3*i))).n for i in range(4)))\n",
    "            return any(ExcelNumber(str(Decimal(str(other.val * other.scalar_val.value)) / Decimal(10 ** 9))) ==  ExcelNumber(str(Decimal(str(self.val)) / Decimal(10 ** (3*i)))) for i in range(4))\n",
    "        return other == self"
   ]
  },
  {
   "cell_type": "code",
   "execution_count": 9,
   "metadata": {},
   "outputs": [
    {
     "data": {
      "text/plain": [
       "{Decimal('1.35E-9'),\n",
       " Decimal('0.00000135'),\n",
       " Decimal('0.00135'),\n",
       " Decimal('1.35')}"
      ]
     },
     "execution_count": 9,
     "metadata": {},
     "output_type": "execute_result"
    }
   ],
   "source": [
    "set(Decimal(str(1.35)) * Decimal(str(10 ** -(i * 3))) for i in range(0, 4))"
   ]
  },
  {
   "cell_type": "code",
   "execution_count": 10,
   "metadata": {},
   "outputs": [
    {
     "data": {
      "text/plain": [
       "'1.35'"
      ]
     },
     "execution_count": 10,
     "metadata": {},
     "output_type": "execute_result"
    }
   ],
   "source": [
    "str(Decimal(str(1.35)))"
   ]
  },
  {
   "cell_type": "code",
   "execution_count": 11,
   "metadata": {},
   "outputs": [
    {
     "data": {
      "text/plain": [
       "{Decimal('0.001349000'),\n",
       " Decimal('1.349000'),\n",
       " Decimal('1349.000'),\n",
       " Decimal('1349000')}"
      ]
     },
     "execution_count": 11,
     "metadata": {},
     "output_type": "execute_result"
    }
   ],
   "source": [
    "set(Decimal(str(1349000)) * Decimal(str(10 ** -(i * 3))) for i in range(0, 4))"
   ]
  },
  {
   "cell_type": "code",
   "execution_count": 12,
   "metadata": {},
   "outputs": [
    {
     "name": "stdout",
     "output_type": "stream",
     "text": [
      "['2388.0', '2.388', '0.002388', '2.388e-06']\n",
      "[24, 20, 0, 0, 0]\n",
      "23880\n",
      "[2388, 2390, 2400, 2000, 0, 0, 0]\n",
      "0002400\n",
      "True\n",
      "[1349000, 1349000, 1349000, 1349000, 1350000, 1300000, 1000000]\n",
      "1350\n",
      "[1349000, 1349000, 1349000, 1349000, 1350000, 1300000, 1000000]\n",
      "1350000\n",
      "True\n",
      "[1358000, 1358000, 1358000, 1358000, 1360000, 1400000, 1000000]\n",
      "1360\n",
      "[1358000, 1358000, 1358000, 1358000, 1360000, 1400000, 1000000]\n",
      "1360000\n",
      "True\n",
      "['19.0', '0.019', '1.9e-05', '1.9e-08']\n",
      "[19, 20, 0, 0, 0, 0, 0]\n",
      "0019000\n",
      "True\n",
      "['85154.0', '85.154', '0.085154', '8.5154e-05']\n",
      "[85, 80, 100, 0, 0, 0, 0]\n",
      "85154000\n",
      "[85, 80, 100, 0, 0, 0, 0]\n",
      "0085154\n",
      "[85154, 85150, 85200, 85000, 90000, 100000, 0, 0, 0, 0]\n",
      "0000085000\n",
      "True\n",
      "['5245123.0', '5245.123', '5.245123', '0.005245123']\n",
      "[52, 50, 100, 0, 0]\n",
      "52451230\n",
      "[5245123, 5245120, 5245100, 5245000, 5250000, 5200000, 5000000]\n",
      "0005200\n",
      "[5245123, 5245120, 5245100, 5245000, 5250000, 5200000, 5000000, 10000000, 0, 0]\n",
      "0005200000\n",
      "True\n",
      "['3.4', '0.0034', '3.4e-06', '3.4e-09']\n",
      "[34, 30, 0, 0, 0, 0, 0, 0]\n",
      "34000000\n",
      "[34, 30, 0, 0, 0, 0, 0, 0]\n",
      "00034000\n",
      "True\n",
      "[12456, 12460, 12500, 12000, 10000]\n",
      "12500\n",
      "True\n",
      "['847.0', '0.847', '0.000847', '8.47e-07']\n",
      "[847, 850, 800, 1000, 0, 0, 0]\n",
      "0847000\n",
      "True\n",
      "['1200000.0', '1200.0', '1.2', '0.0012']\n",
      "True\n",
      "True\n",
      "['4200.0', '4.2', '0.0042', '4.2e-06']\n",
      "[42, 40, 0, 0, 0]\n",
      "42000\n",
      "True\n",
      "[800000, 800000, 800000, 800000, 800000, 800000]\n",
      "0800\n",
      "[800000, 800000, 800000, 800000, 800000, 800000, 1000000]\n",
      "0800000\n",
      "True\n",
      "['23000.0', '23.0', '0.023', '2.3e-05']\n",
      "[23, 20, 0, 0, 0, 0, 0]\n",
      "0023000\n",
      "True\n",
      "[3100000, 3100000, 3100000, 3100000, 3100000, 3100000, 3000000]\n",
      "3100\n",
      "[3100000, 3100000, 3100000, 3100000, 3100000, 3100000, 3000000]\n",
      "3100000\n",
      "True\n",
      "['1500.0', '1.5', '0.0015', '1.5e-06']\n",
      "[15, 20, 0, 0, 0]\n",
      "15000\n",
      "True\n",
      "True\n",
      "[7800000, 7800000, 7800000, 7800000, 7800000, 7800000, 8000000]\n",
      "7800\n",
      "[7800000, 7800000, 7800000, 7800000, 7800000, 7800000, 8000000]\n",
      "7800000\n",
      "True\n",
      "['2900.0', '2.9', '0.0029', '2.9e-06']\n",
      "[29, 30, 0, 0, 0]\n",
      "29000\n",
      "True\n",
      "['145498.0', '145.498', '0.145498', '0.000145498']\n",
      "[145, 140, 100, 0, 0, 0, 0]\n",
      "145498000\n",
      "[145, 140, 100, 0, 0, 0, 0]\n",
      "0145498\n",
      "[145498, 145500, 145500, 145000, 150000, 100000, 0, 0, 0, 0]\n",
      "0000145000\n",
      "True\n",
      "[4600000, 4600000, 4600000, 4600000, 4600000, 4600000, 5000000]\n",
      "4600\n",
      "[4600000, 4600000, 4600000, 4600000, 4600000, 4600000, 5000000]\n",
      "4600000\n",
      "True\n",
      "['75.0', '0.075', '7.5e-05', '7.5e-08']\n",
      "[75, 80, 100, 0]\n",
      "0100\n",
      "True\n",
      "['3396000.0', '3396.0', '3.396', '0.003396']\n",
      "[34, 30, 0, 0, 0]\n",
      "33960\n",
      "[3396, 3400, 3400, 3000, 0, 0, 0]\n",
      "0003400\n",
      "True\n"
     ]
    }
   ],
   "source": [
    "print(Scalar(2.4, Scalar.ScalarType.M) == Scalar(2388, Scalar.ScalarType.N))\n",
    "print(Scalar(1.35, Scalar.ScalarType.N) == Scalar(1349000, Scalar.ScalarType.N))\n",
    "print(Scalar(1.36, Scalar.ScalarType.N) == Scalar(1358000, Scalar.ScalarType.N))\n",
    "print(Scalar(19, Scalar.ScalarType.K) == Scalar(19, Scalar.ScalarType.N))\n",
    "print(Scalar(85, Scalar.ScalarType.K) == Scalar(85154, Scalar.ScalarType.N))\n",
    "print(Scalar(5.2, Scalar.ScalarType.M) == Scalar(5245123, Scalar.ScalarType.N))\n",
    "print(Scalar(3.4, Scalar.ScalarType.K) == Scalar(3.4, Scalar.ScalarType.N))\n",
    "print(Scalar(12.5, Scalar.ScalarType.N) == Scalar(12456, Scalar.ScalarType.N))\n",
    "print(Scalar(847, Scalar.ScalarType.K) == Scalar(847, Scalar.ScalarType.N))\n",
    "print(Scalar(1.2, Scalar.ScalarType.B) == Scalar(1200000, Scalar.ScalarType.N))\n",
    "print(Scalar(1, Scalar.ScalarType.N) == Scalar(950, Scalar.ScalarType.N))\n",
    "print(Scalar(4.2, Scalar.ScalarType.M) == Scalar(4200, Scalar.ScalarType.N))\n",
    "print(Scalar(0.8, Scalar.ScalarType.N) == Scalar(800000, Scalar.ScalarType.N))\n",
    "print(Scalar(23, Scalar.ScalarType.K) == Scalar(23000, Scalar.ScalarType.N))\n",
    "print(Scalar(3.1, Scalar.ScalarType.N) == Scalar(3100000, Scalar.ScalarType.N))\n",
    "print(Scalar(1.5, Scalar.ScalarType.M) == Scalar(1500, Scalar.ScalarType.N))\n",
    "print(Scalar(92, Scalar.ScalarType.N) == Scalar(92000, Scalar.ScalarType.N))\n",
    "print(Scalar(7.8, Scalar.ScalarType.N) == Scalar(7800000, Scalar.ScalarType.N))\n",
    "print(Scalar(2.9, Scalar.ScalarType.M) == Scalar(2900, Scalar.ScalarType.N))\n",
    "print(Scalar(145, Scalar.ScalarType.K) == Scalar(145498, Scalar.ScalarType.N))\n",
    "print(Scalar(4.6, Scalar.ScalarType.N) == Scalar(4600000, Scalar.ScalarType.N))\n",
    "print(Scalar(75, Scalar.ScalarType.N) == Scalar(0.1, Scalar.ScalarType.B))\n",
    "\n",
    "print(Scalar(3.40, Scalar.ScalarType.M) == Scalar(3396000, Scalar.ScalarType.N))"
   ]
  },
  {
   "cell_type": "code",
   "execution_count": 13,
   "metadata": {},
   "outputs": [
    {
     "name": "stdout",
     "output_type": "stream",
     "text": [
      "[3396, 3400, 3400, 3000, 0, 0, 0]\n",
      "3400000\n",
      "False\n"
     ]
    }
   ],
   "source": [
    "print(Scalar(3.40, Scalar.ScalarType.B) == Scalar(3396, Scalar.ScalarType.K))"
   ]
  },
  {
   "cell_type": "code",
   "execution_count": 14,
   "metadata": {},
   "outputs": [
    {
     "name": "stdout",
     "output_type": "stream",
     "text": [
      "['38324.0', '38.324', '0.038324', '3.8324e-05']\n",
      "[383, 380, 400, 0, 0]\n",
      "383240\n",
      "[38324, 38320, 38300, 38000, 40000, 0, 0]\n",
      "0038300\n",
      "True\n"
     ]
    }
   ],
   "source": [
    "print(Scalar(38.3, Scalar.ScalarType.M) == Scalar(38324, Scalar.ScalarType.N))"
   ]
  }
 ],
 "metadata": {
  "kernelspec": {
   "display_name": "ZenCheckKG",
   "language": "python",
   "name": "python3"
  },
  "language_info": {
   "codemirror_mode": {
    "name": "ipython",
    "version": 3
   },
   "file_extension": ".py",
   "mimetype": "text/x-python",
   "name": "python",
   "nbconvert_exporter": "python",
   "pygments_lexer": "ipython3",
   "version": "3.12.6"
  }
 },
 "nbformat": 4,
 "nbformat_minor": 2
}
