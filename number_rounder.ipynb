{
 "cells": [
  {
   "cell_type": "code",
   "execution_count": 1,
   "metadata": {},
   "outputs": [],
   "source": [
    "def in_tree(a: str, b: str):\n",
    "    if not \".\" in a or not \".\" in b: return round(float(a)) == round(float(b))\n",
    "    k1, k2 = len(a) - a.find(\".\") - 1, len(b) - b.find(\".\") - 1\n",
    "    a, b = (a.replace(\".\", \"\"), (b.replace(\".\", \"\") + (k1-k2) * \"0\")) if k1 >= k2 else (b.replace(\".\", \"\"), a.replace(\".\", \"\") + (k2-k1) * \"0\")\n",
    "    print([round(float(a), i) for i in range(0, -((len(a))), -1)])\n",
    "    return float(b) in [round(float(a), i) for i in range(0, -((len(a))), -1)]"
   ]
  },
  {
   "cell_type": "code",
   "execution_count": 2,
   "metadata": {},
   "outputs": [],
   "source": [
    "# if it equals zero, we stop\n",
    "class ExcelNumber:\n",
    "    \n",
    "    def __init__(self, n: str):\n",
    "        self.n: str = n\n",
    "    \n",
    "    def __eq__(self, other):\n",
    "        if other.n == self.n: return True\n",
    "        if \".\" not in self.n and \".\" not in other.n: return False\n",
    "        if \".\" in self.n and (len(self.n) - self.n.find(\".\") >= len(other.n) - other.n.find(\".\") or \".\" not in other.n):\n",
    "            numbers_after_dot = len(self.n) - self.n.find(\".\") - 1\n",
    "            tree = ([f'%.{i}f' % round(float(self.n)+0.0000000000001, i) for i in range(numbers_after_dot, 0, -1)] + [str(int(round(float(self.n)+0.000000000001, 0)))])\n",
    "            return other.n in tree\n",
    "        return other == self "
   ]
  },
  {
   "cell_type": "code",
   "execution_count": 3,
   "metadata": {},
   "outputs": [],
   "source": [
    "def percentage_equal(a, b):\n",
    "    if a[-1] == \"%\" and b[-1] != \"%\":\n",
    "        return ExcelNumber(b) in [ExcelNumber(str(float(a[:-1])/100)), ExcelNumber(str((a[:-1])))]\n",
    "    if a[-1] == \"%\" and b[-1] == \"%\":\n",
    "        return ExcelNumber(a[:-1]) == ExcelNumber(b[:-1])\n",
    "    return percentage_equal(b, a)"
   ]
  },
  {
   "cell_type": "code",
   "execution_count": 4,
   "metadata": {},
   "outputs": [
    {
     "name": "stdout",
     "output_type": "stream",
     "text": [
      "False\n",
      "True\n",
      "True\n",
      "True\n"
     ]
    }
   ],
   "source": [
    "print(percentage_equal(\"48.9%\", \"0.5%\"))\n",
    "print(percentage_equal(\"48.9\", \"48.9%\"))\n",
    "print(percentage_equal(\"48.9%\", \"0.489\"))\n",
    "print(percentage_equal(\"48.9%\", \"0.489\"))"
   ]
  },
  {
   "cell_type": "code",
   "execution_count": 5,
   "metadata": {},
   "outputs": [],
   "source": [
    "from enum import Enum\n",
    "class Scalar:\n",
    "    class ScalarType(Enum):\n",
    "        K = 3\n",
    "        M = 6\n",
    "        B = 9\n",
    "        N = 0\n",
    "    \n",
    "    def __init__(self, val: str, scalar_val: ScalarType):\n",
    "        self.scalar_val: self.ScalarType = scalar_val\n",
    "        self.val: str= val\n",
    "        \n",
    "    def divide_by_exp(val: str, exp: int):\n",
    "        if exp == 0: return val\n",
    "        if not \".\" in val:\n",
    "            if exp < len(val):\n",
    "                return val[:-exp] + \".\" +val[-exp:]\n",
    "            return \"0.\" + \"0\" * (exp - len(val)) + val\n",
    "        if \".\" in val:\n",
    "            return Scalar.divide_by_exp(val.replace(\".\", \"\"), exp + len(val) - val.find(\".\") - 1)\n",
    "        \n",
    "    def __eq__(self, other) -> bool:\n",
    "        s = ExcelNumber(Scalar.divide_by_exp(self.val, 9 - self.scalar_val.value))\n",
    "        o = ExcelNumber(Scalar.divide_by_exp(other.val, 9 - other.scalar_val.value)) \n",
    "        if self.scalar_val.value != 0 and other.scalar_val.value != 0: return s == o\n",
    "        if self.scalar_val.value == 0 and other.scalar_val.value == 0:\n",
    "            k1 = [ExcelNumber(Scalar.divide_by_exp(self.val, 3 * i)) for i in range(0, 4)]\n",
    "            k2 = [ExcelNumber(Scalar.divide_by_exp(other.val, 3 * i)) for i in range(0, 4)]\n",
    "            return any(i==j for i in k1 for j in k2)\n",
    "        if self.scalar_val.value == 0:\n",
    "            return any(o==ExcelNumber(Scalar.divide_by_exp(self.val, 3*i)) for i in range(4))\n",
    "        return other == self"
   ]
  },
  {
   "cell_type": "code",
   "execution_count": 6,
   "metadata": {},
   "outputs": [
    {
     "name": "stdout",
     "output_type": "stream",
     "text": [
      "1.200000\n"
     ]
    }
   ],
   "source": [
    "print(ExcelNumber(Scalar.divide_by_exp(\"1200000\", 6)).n)"
   ]
  },
  {
   "cell_type": "code",
   "execution_count": 7,
   "metadata": {},
   "outputs": [
    {
     "data": {
      "text/plain": [
       "False"
      ]
     },
     "execution_count": 7,
     "metadata": {},
     "output_type": "execute_result"
    }
   ],
   "source": [
    "Scalar(\"75\", Scalar.ScalarType.N) == Scalar(\"0.10\", Scalar.ScalarType.B)"
   ]
  },
  {
   "cell_type": "code",
   "execution_count": 8,
   "metadata": {},
   "outputs": [
    {
     "data": {
      "text/plain": [
       "0.0"
      ]
     },
     "execution_count": 8,
     "metadata": {},
     "output_type": "execute_result"
    }
   ],
   "source": [
    "1.2 * 10 ** 9 - 1200000 * 1000"
   ]
  },
  {
   "cell_type": "code",
   "execution_count": 9,
   "metadata": {},
   "outputs": [
    {
     "name": "stdout",
     "output_type": "stream",
     "text": [
      "True\n",
      "True\n",
      "True\n",
      "True\n",
      "True\n",
      "True\n",
      "True\n",
      "True\n",
      "True\n",
      "True\n",
      "True\n",
      "True\n",
      "True\n",
      "True\n",
      "True\n",
      "True\n",
      "True\n",
      "True\n",
      "True\n",
      "True\n",
      "True\n",
      "True\n",
      "True\n"
     ]
    }
   ],
   "source": [
    "print(Scalar(\"2.4\", Scalar.ScalarType.M) == Scalar(\"2388\", Scalar.ScalarType.N))\n",
    "print(Scalar(\"1.35\", Scalar.ScalarType.N) == Scalar(\"1349000\", Scalar.ScalarType.N))\n",
    "print(Scalar(\"1.36\", Scalar.ScalarType.N) == Scalar(\"1358000\", Scalar.ScalarType.N))\n",
    "print(Scalar(\"19\", Scalar.ScalarType.K) == Scalar(\"19\", Scalar.ScalarType.N))\n",
    "print(Scalar(\"85\", Scalar.ScalarType.K) == Scalar(\"85154\", Scalar.ScalarType.N))\n",
    "print(Scalar(\"5.2\", Scalar.ScalarType.M) == Scalar(\"5245123\", Scalar.ScalarType.N))\n",
    "print(Scalar(\"3.4\", Scalar.ScalarType.K) == Scalar(\"3.4\", Scalar.ScalarType.N))\n",
    "print(Scalar(\"12.5\", Scalar.ScalarType.N) == Scalar(\"12456\", Scalar.ScalarType.N))\n",
    "print(Scalar(\"847\", Scalar.ScalarType.K) == Scalar(\"847\", Scalar.ScalarType.N))\n",
    "print(Scalar(\"1.2\", Scalar.ScalarType.B) == Scalar(\"1200000\", Scalar.ScalarType.N))\n",
    "print(Scalar(\"1\", Scalar.ScalarType.N) == Scalar(\"950\", Scalar.ScalarType.N))\n",
    "print(Scalar(\"4.2\", Scalar.ScalarType.M) == Scalar(\"4200\", Scalar.ScalarType.N))\n",
    "print(Scalar(\"0.8\", Scalar.ScalarType.N) == Scalar(\"800000\", Scalar.ScalarType.N))\n",
    "print(Scalar(\"23\", Scalar.ScalarType.K) == Scalar(\"23000\", Scalar.ScalarType.N))\n",
    "print(Scalar(\"3.1\", Scalar.ScalarType.N) == Scalar(\"3100000\", Scalar.ScalarType.N))\n",
    "print(Scalar(\"1.5\", Scalar.ScalarType.M) == Scalar(\"1500\", Scalar.ScalarType.N))\n",
    "print(Scalar(\"92\", Scalar.ScalarType.N) == Scalar(\"92000\", Scalar.ScalarType.N))\n",
    "print(Scalar(\"7.8\", Scalar.ScalarType.N) == Scalar(\"7800000\", Scalar.ScalarType.N))\n",
    "print(Scalar(\"2.9\", Scalar.ScalarType.M) == Scalar(\"2900\", Scalar.ScalarType.N))\n",
    "print(Scalar(\"145\", Scalar.ScalarType.K) == Scalar(\"145498\", Scalar.ScalarType.N))\n",
    "print(Scalar(\"4.6\", Scalar.ScalarType.N) == Scalar(\"4600000\", Scalar.ScalarType.N))\n",
    "print(Scalar(\"75\", Scalar.ScalarType.N) == Scalar(\"0.1\", Scalar.ScalarType.B))\n",
    "print(Scalar(\"3.40\", Scalar.ScalarType.M) == Scalar(\"3396000\", Scalar.ScalarType.N))"
   ]
  },
  {
   "cell_type": "code",
   "execution_count": 10,
   "metadata": {},
   "outputs": [
    {
     "name": "stdout",
     "output_type": "stream",
     "text": [
      "True\n"
     ]
    }
   ],
   "source": [
    "print(Scalar(\"3.40\", Scalar.ScalarType.M) != Scalar(\"3394900\", Scalar.ScalarType.N))"
   ]
  },
  {
   "cell_type": "code",
   "execution_count": 11,
   "metadata": {},
   "outputs": [
    {
     "name": "stdout",
     "output_type": "stream",
     "text": [
      "False\n"
     ]
    }
   ],
   "source": [
    "print(Scalar(\"3.40\", Scalar.ScalarType.B) == Scalar(\"3396\", Scalar.ScalarType.K))"
   ]
  },
  {
   "cell_type": "code",
   "execution_count": 12,
   "metadata": {},
   "outputs": [
    {
     "name": "stdout",
     "output_type": "stream",
     "text": [
      "True\n"
     ]
    }
   ],
   "source": [
    "print(Scalar(\"38.3\", Scalar.ScalarType.M) == Scalar(\"38324\", Scalar.ScalarType.N))"
   ]
  },
  {
   "cell_type": "code",
   "execution_count": 13,
   "metadata": {},
   "outputs": [
    {
     "data": {
      "text/plain": [
       "2.025"
      ]
     },
     "execution_count": 13,
     "metadata": {},
     "output_type": "execute_result"
    }
   ],
   "source": [
    "float(2.025)"
   ]
  },
  {
   "cell_type": "code",
   "execution_count": 14,
   "metadata": {},
   "outputs": [],
   "source": [
    "def get_scalar(n):\n",
    "    if \"bn\" in n.lower(): return n[:-2], Scalar.ScalarType.B\n",
    "    if \"m\" in n.lower(): return n[:-1], Scalar.ScalarType.M\n",
    "    if \"k\" in n.lower(): return n[:-1], Scalar.ScalarType.K\n",
    "    return n, Scalar.ScalarType.N"
   ]
  },
  {
   "cell_type": "code",
   "execution_count": 15,
   "metadata": {},
   "outputs": [],
   "source": [
    "def logicaly_consistent(a, b):\n",
    "    if \"£\" in a and \"$\" in b or \"$\" in a and \"£\" in b: return False\n",
    "    if (\"-\" in a or a == \"(\" + a[1:-1] + \")\") and \"+\" in b or \"+\" in a and (\"-\" in b  or b == \"(\" + b[1:-1] + \")\"): return False\n",
    "    if \"%\" in a+b and any(i in a+b for i in \"£$mkbMKB\"): return False\n",
    "    if \"%\" in a or \"%\" in b: return percentage_equal(a, b)\n",
    "    a, b = [''.join(c for c in n if not c in \"-+(),$£\") for n in (a, b)]\n",
    "    s1 = Scalar(*get_scalar(a))\n",
    "    s2 = Scalar(*get_scalar(b))\n",
    "    print(s1.val, s1.scalar_val)\n",
    "    print(s2.val, s2.scalar_val)\n",
    "    return s1 == s2"
   ]
  },
  {
   "cell_type": "code",
   "execution_count": 16,
   "metadata": {},
   "outputs": [
    {
     "data": {
      "text/plain": [
       "False"
      ]
     },
     "execution_count": 16,
     "metadata": {},
     "output_type": "execute_result"
    }
   ],
   "source": [
    "ExcelNumber(\"0.075\") == ExcelNumber(\"0.10\")"
   ]
  },
  {
   "cell_type": "code",
   "execution_count": 19,
   "metadata": {},
   "outputs": [
    {
     "name": "stdout",
     "output_type": "stream",
     "text": [
      "0.1 ScalarType.B\n",
      "75000 ScalarType.N\n"
     ]
    },
    {
     "data": {
      "text/plain": [
       "True"
      ]
     },
     "execution_count": 19,
     "metadata": {},
     "output_type": "execute_result"
    }
   ],
   "source": [
    "logicaly_consistent(\"-£0.1bn\", \"(£75000)\")"
   ]
  }
 ],
 "metadata": {
  "kernelspec": {
   "display_name": "ZenCheckKG",
   "language": "python",
   "name": "python3"
  },
  "language_info": {
   "codemirror_mode": {
    "name": "ipython",
    "version": 3
   },
   "file_extension": ".py",
   "mimetype": "text/x-python",
   "name": "python",
   "nbconvert_exporter": "python",
   "pygments_lexer": "ipython3",
   "version": "3.12.6"
  }
 },
 "nbformat": 4,
 "nbformat_minor": 2
}
