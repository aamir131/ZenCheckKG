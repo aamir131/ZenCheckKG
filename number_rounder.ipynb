{
 "cells": [
  {
   "cell_type": "code",
   "execution_count": 1,
   "metadata": {},
   "outputs": [],
   "source": [
    "class ExcelNumber:\n",
    "    \n",
    "    def __init__(self, n: str):\n",
    "        self.n = n\n",
    "    \n",
    "    def __eq__(self, other):\n",
    "        if other.n == self.n: return True\n",
    "        if \".\" not in self.n and \".\" not in other.n: return False\n",
    "        \n",
    "        if \".\" in self.n and (len(self.n) - self.n.find(\".\") >= len(other.n) - other.n.find(\".\") or \".\" not in other.n):\n",
    "            numbers_after_dot = len(self.n) - self.n.find(\".\") - 1\n",
    "            tree = ([f'%.{i}f' % round(float(self.n)+0.0000000000001, i) for i in range(numbers_after_dot, 0, -1)] + [str(int(round(float(self.n)+0.000000000000, 0)))])\n",
    "            return other.n in tree\n",
    "        return other == self"
   ]
  },
  {
   "cell_type": "code",
   "execution_count": 74,
   "metadata": {},
   "outputs": [],
   "source": [
    "def p_eq(a, b):\n",
    "    if a[-1] == \"%\" and b[-1] != \"%\":\n",
    "        return ExcelNumber(b) in [ExcelNumber(str(float(a[:-1])/100)), ExcelNumber(str((a[:-1])))]\n",
    "    if a[-1] == \"%\" and b[-1] == \"%\":\n",
    "        return ExcelNumber(a[:-1]) == ExcelNumber(b[:-1])\n",
    "    return p_eq(b, a)"
   ]
  },
  {
   "cell_type": "code",
   "execution_count": null,
   "metadata": {},
   "outputs": [
    {
     "name": "stdout",
     "output_type": "stream",
     "text": [
      "False\n",
      "True\n",
      "True\n"
     ]
    }
   ],
   "source": [
    "print(p_eq(\"48.9%\", \"0.5%\"))\n",
    "print(p_eq(\"48.9\", \"48.9%\"))\n",
    "print(p_eq(\"48.9%\", \"0.489\"))\n",
    "print(p_eq(\"48.9%\", \"0.489\"))"
   ]
  },
  {
   "cell_type": "code",
   "execution_count": 46,
   "metadata": {},
   "outputs": [
    {
     "data": {
      "text/plain": [
       "True"
      ]
     },
     "execution_count": 46,
     "metadata": {},
     "output_type": "execute_result"
    }
   ],
   "source": [
    "ExcelNumber(\"45.6\") == ExcelNumber(\"46\")"
   ]
  },
  {
   "cell_type": "code",
   "execution_count": 20,
   "metadata": {},
   "outputs": [],
   "source": [
    "from enum import Enum\n",
    "from decimal import Decimal, getcontext\n",
    "class Scalar:\n",
    "    class ScalarType(Enum):\n",
    "        K = 1000 \n",
    "        M = 1000000\n",
    "        B = 1000000000\n",
    "        N = 1\n",
    "    \n",
    "    def __init__(self, val, scalar_val: ScalarType):\n",
    "        self.scalar_val : self.ScalarType = scalar_val\n",
    "        self.val = val\n",
    "        \n",
    "    def __eq__(self, other) -> bool:\n",
    "        if  self.scalar_val.value != 1 and other.scalar_val.value != 1:\n",
    "            return ExcelNumber(str(self.val * self.scalar_val.value / 10**9)) == ExcelNumber(str(other.val * other.scalar_val.value / 10**9))\n",
    "        if self.scalar_val.value == 1 and other.scalar_val.value == 1:\n",
    "            k1 = [ExcelNumber(str(Decimal(str(self.val)) * Decimal(str(10 ** -(i * 3))))) for i in range(0, 4)]\n",
    "            k2 = [ExcelNumber(str(Decimal(str(other.val)) * Decimal(str(10 ** -(i * 3))))) for i in range(0, 4)]\n",
    "            for i in k1:\n",
    "                for j in k2:\n",
    "                    if i == j: return True\n",
    "            return False\n",
    "        if self.scalar_val.value == 1:\n",
    "            print(list(ExcelNumber(str(self.val / 10 ** (3*i))).n for i in range(4)))\n",
    "            return any(ExcelNumber(str(Decimal(str(other.val * other.scalar_val.value)) / Decimal(10 ** 9))) ==  ExcelNumber(str(Decimal(str(self.val)) / Decimal(10 ** (3*i)))) for i in range(4))\n",
    "        return other == self"
   ]
  },
  {
   "cell_type": "code",
   "execution_count": 14,
   "metadata": {},
   "outputs": [
    {
     "data": {
      "text/plain": [
       "{Decimal('1.35E-9'),\n",
       " Decimal('0.00000135'),\n",
       " Decimal('0.00135'),\n",
       " Decimal('1.35')}"
      ]
     },
     "execution_count": 14,
     "metadata": {},
     "output_type": "execute_result"
    }
   ],
   "source": [
    "set(Decimal(str(1.35)) * Decimal(str(10 ** -(i * 3))) for i in range(0, 4))"
   ]
  },
  {
   "cell_type": "code",
   "execution_count": 17,
   "metadata": {},
   "outputs": [
    {
     "data": {
      "text/plain": [
       "'1.35'"
      ]
     },
     "execution_count": 17,
     "metadata": {},
     "output_type": "execute_result"
    }
   ],
   "source": [
    "str(Decimal(str(1.35)))"
   ]
  },
  {
   "cell_type": "code",
   "execution_count": 15,
   "metadata": {},
   "outputs": [
    {
     "data": {
      "text/plain": [
       "{Decimal('0.001349000'),\n",
       " Decimal('1.349000'),\n",
       " Decimal('1349.000'),\n",
       " Decimal('1349000')}"
      ]
     },
     "execution_count": 15,
     "metadata": {},
     "output_type": "execute_result"
    }
   ],
   "source": [
    "set(Decimal(str(1349000)) * Decimal(str(10 ** -(i * 3))) for i in range(0, 4))"
   ]
  },
  {
   "cell_type": "code",
   "execution_count": 29,
   "metadata": {},
   "outputs": [
    {
     "name": "stdout",
     "output_type": "stream",
     "text": [
      "['2388.0', '2.388', '0.002388', '2.388e-06']\n",
      "True\n",
      "True\n",
      "True\n",
      "['19.0', '0.019', '1.9e-05', '1.9e-08']\n",
      "True\n",
      "['85154.0', '85.154', '0.085154', '8.5154e-05']\n",
      "True\n",
      "['5245123.0', '5245.123', '5.245123', '0.005245123']\n",
      "True\n",
      "['3.4', '0.0034', '3.4e-06', '3.4e-09']\n",
      "True\n",
      "True\n",
      "['847.0', '0.847', '0.000847', '8.47e-07']\n",
      "True\n",
      "['1200000.0', '1200.0', '1.2', '0.0012']\n",
      "True\n",
      "True\n",
      "['4200.0', '4.2', '0.0042', '4.2e-06']\n",
      "True\n",
      "True\n",
      "['23000.0', '23.0', '0.023', '2.3e-05']\n",
      "True\n",
      "True\n",
      "['1500.0', '1.5', '0.0015', '1.5e-06']\n",
      "True\n",
      "True\n",
      "True\n",
      "['2900.0', '2.9', '0.0029', '2.9e-06']\n",
      "True\n",
      "['145498.0', '145.498', '0.145498', '0.000145498']\n",
      "True\n",
      "True\n",
      "['75.0', '0.075', '7.5e-05', '7.5e-08']\n",
      "True\n",
      "['3396000.0', '3396.0', '3.396', '0.003396']\n",
      "True\n"
     ]
    }
   ],
   "source": [
    "print(Scalar(2.4, Scalar.ScalarType.M) == Scalar(2388, Scalar.ScalarType.N))\n",
    "print(Scalar(1.35, Scalar.ScalarType.N) == Scalar(1349000, Scalar.ScalarType.N))\n",
    "print(Scalar(1.36, Scalar.ScalarType.N) == Scalar(1358000, Scalar.ScalarType.N))\n",
    "print(Scalar(19, Scalar.ScalarType.K) == Scalar(19, Scalar.ScalarType.N))\n",
    "print(Scalar(85, Scalar.ScalarType.K) == Scalar(85154, Scalar.ScalarType.N))\n",
    "print(Scalar(5.2, Scalar.ScalarType.M) == Scalar(5245123, Scalar.ScalarType.N))\n",
    "print(Scalar(3.4, Scalar.ScalarType.K) == Scalar(3.4, Scalar.ScalarType.N))\n",
    "print(Scalar(12.5, Scalar.ScalarType.N) == Scalar(12456, Scalar.ScalarType.N))\n",
    "print(Scalar(847, Scalar.ScalarType.K) == Scalar(847, Scalar.ScalarType.N))\n",
    "print(Scalar(1.2, Scalar.ScalarType.B) == Scalar(1200000, Scalar.ScalarType.N))\n",
    "print(Scalar(1, Scalar.ScalarType.N) == Scalar(950, Scalar.ScalarType.N))\n",
    "print(Scalar(4.2, Scalar.ScalarType.M) == Scalar(4200, Scalar.ScalarType.N))\n",
    "print(Scalar(0.8, Scalar.ScalarType.N) == Scalar(800000, Scalar.ScalarType.N))\n",
    "print(Scalar(23, Scalar.ScalarType.K) == Scalar(23000, Scalar.ScalarType.N))\n",
    "print(Scalar(3.1, Scalar.ScalarType.N) == Scalar(3100000, Scalar.ScalarType.N))\n",
    "print(Scalar(1.5, Scalar.ScalarType.M) == Scalar(1500, Scalar.ScalarType.N))\n",
    "print(Scalar(92, Scalar.ScalarType.N) == Scalar(92000, Scalar.ScalarType.N))\n",
    "print(Scalar(7.8, Scalar.ScalarType.N) == Scalar(7800000, Scalar.ScalarType.N))\n",
    "print(Scalar(2.9, Scalar.ScalarType.M) == Scalar(2900, Scalar.ScalarType.N))\n",
    "print(Scalar(145, Scalar.ScalarType.K) == Scalar(145498, Scalar.ScalarType.N))\n",
    "print(Scalar(4.6, Scalar.ScalarType.N) == Scalar(4600000, Scalar.ScalarType.N))\n",
    "print(Scalar(75, Scalar.ScalarType.N) == Scalar(0.1, Scalar.ScalarType.B))\n",
    "\n",
    "print(Scalar(3.40, Scalar.ScalarType.M) == Scalar(3396000, Scalar.ScalarType.N))"
   ]
  },
  {
   "cell_type": "code",
   "execution_count": 34,
   "metadata": {},
   "outputs": [
    {
     "name": "stdout",
     "output_type": "stream",
     "text": [
      "False\n"
     ]
    }
   ],
   "source": [
    "print(Scalar(3.40, Scalar.ScalarType.B) == Scalar(3396, Scalar.ScalarType.K))"
   ]
  }
 ],
 "metadata": {
  "kernelspec": {
   "display_name": "ZenCheckKG",
   "language": "python",
   "name": "python3"
  },
  "language_info": {
   "codemirror_mode": {
    "name": "ipython",
    "version": 3
   },
   "file_extension": ".py",
   "mimetype": "text/x-python",
   "name": "python",
   "nbconvert_exporter": "python",
   "pygments_lexer": "ipython3",
   "version": "3.12.6"
  }
 },
 "nbformat": 4,
 "nbformat_minor": 2
}
