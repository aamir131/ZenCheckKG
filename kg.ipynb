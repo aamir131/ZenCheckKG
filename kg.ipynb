{
 "cells": [
  {
   "cell_type": "code",
   "execution_count": null,
   "metadata": {},
   "outputs": [],
   "source": [
    "import boto3\n",
    "import time\n",
    "import os\n",
    "import re\n",
    "from decimal import Decimal, InvalidOperation\n",
    "\n",
    "from dotenv import load_dotenv\n",
    "\n",
    "from SeekerTruther import Seeker, Truther\n",
    "from KnowledgeGraph import KnowledgeGraph\n",
    "from SeekerTruther import Seeker, Truther\n",
    "from RewardFunction import RewardFunction"
   ]
  },
  {
   "cell_type": "code",
   "execution_count": null,
   "metadata": {},
   "outputs": [],
   "source": [
    "load_dotenv()\n",
    "textract = boto3.client(\n",
    "    'textract',\n",
    "    aws_access_key_id=os.environ['AWS_ACCESS_KEY_ID'],\n",
    "    aws_secret_access_key=os.environ['AWS_SECRET_ACCESS_KEY'],\n",
    "    region_name='ap-southeast-2'\n",
    ")\n",
    "\n",
    "bucket_name = 'knowledge-graph-test-examples'\n",
    "document_name = 'KPMG-TL-FDD-Report-Aug-2020.pdf'"
   ]
  },
  {
   "cell_type": "code",
   "execution_count": null,
   "metadata": {},
   "outputs": [],
   "source": [
    "#response = textract.start_document_analysis(\n",
    "#    DocumentLocation={'S3Object': {'Bucket': bucket_name, 'Name': document_name}},\n",
    "#    FeatureTypes=['TABLES', 'LAYOUT']\n",
    "#)\n",
    "#\n",
    "#job_id = response['JobId']\n",
    "#print(f\"Started Textract job with JobId: {job_id}\")\n",
    "#\n",
    "#while True:\n",
    "#    status = textract.get_document_analysis(JobId=job_id)\n",
    "#    status_value = status['JobStatus']\n",
    "#    if status_value in ['SUCCEEDED', 'FAILED']:\n",
    "#        print(f\"Job status: {status_value}\")\n",
    "#        break\n",
    "#    print(\"Waiting for job to complete...\")\n",
    "#    time.sleep(5)\n",
    "#\n",
    "#all_blocks = []\n",
    "#if status_value == 'SUCCEEDED':\n",
    "#    next_token = None\n",
    "#    while True:\n",
    "#        response = textract.get_document_analysis(JobId=job_id, NextToken=next_token) if next_token else textract.get_document_analysis(JobId=job_id)\n",
    "#        all_blocks.extend(response['Blocks'])\n",
    "#        if 'NextToken' not in response:\n",
    "#            break\n",
    "#        next_token = response['NextToken']"
   ]
  },
  {
   "cell_type": "code",
   "execution_count": null,
   "metadata": {},
   "outputs": [],
   "source": [
    "#job_id = 'ff1bbae7d96c6078c61694a7b0df46bd4a37abc7595d3797c2f4d444e8e96046'\n",
    "#job_id = \"d15fce4acd2dba24af37f03e7d82f97cf2b0b73d2778309415f6a140b1dad0e0\"\n",
    "\n",
    "job_ids = [\"b4a68e56c2764095d6e9fd5c0621ff9e4e849f03101c7b575fc500b75e5bb88d\",\n",
    "           \"acb3d623f9aba1aa7024f941be24b2dd707c4beb1edafd685eb7709f4af2fd42\"]\n",
    "\n",
    "all_blocks = []\n",
    "next_token = None\n",
    "for job_id in job_ids:\n",
    "    while True:\n",
    "        response = textract.get_document_analysis(JobId=job_id, NextToken=next_token) if next_token else textract.get_document_analysis(JobId=job_id)\n",
    "        all_blocks.extend(response['Blocks'])\n",
    "        if 'NextToken' not in response: break\n",
    "        next_token = response['NextToken']\n",
    "\n"
   ]
  },
  {
   "cell_type": "code",
   "execution_count": null,
   "metadata": {},
   "outputs": [],
   "source": [
    "def is_number_like(value: str) -> bool:\n",
    "    \"\"\"Returns True if the value is 'number-like'.\"\"\"\n",
    "    \n",
    "    # Strip whitespace\n",
    "    value = value.strip()\n",
    "\n",
    "    # Check for empty string\n",
    "    if not value:\n",
    "        return False\n",
    "    \n",
    "    # Handle percentages: remove percentage sign and check if the remaining string is a number\n",
    "    if value.endswith('%'):\n",
    "        value = value[:-1]  # Remove the '%' sign\n",
    "        try:\n",
    "            Decimal(value)  # Try parsing as a decimal\n",
    "            return True\n",
    "        except InvalidOperation:\n",
    "            return False\n",
    "\n",
    "    # Handle currency symbols: remove common symbols like £, $, €, etc.\n",
    "    value = value.replace('£', '').replace('$', '').replace('€', '').replace('₹', '')\n",
    "    \n",
    "    # Remove commas for numbers with thousands separators\n",
    "    value = value.replace(',', '')\n",
    "    \n",
    "    # Handle 'million', 'billion', etc. (by multiplying by corresponding factors)\n",
    "    multipliers = {\n",
    "        'million': 1_000_000,\n",
    "        'billion': 1_000_000_000,\n",
    "        'thousand': 1_000,\n",
    "        'k': 1_000,\n",
    "        'm': 1_000_000,\n",
    "        'b': 1_000_000_000,\n",
    "    }\n",
    "    \n",
    "    # Check if the string ends with one of the multipliers\n",
    "    for suffix, multiplier in multipliers.items():\n",
    "        if value.lower().endswith(suffix):\n",
    "            try:\n",
    "                num_part = value.lower().replace(suffix, '').strip()\n",
    "                num = Decimal(num_part) * multiplier\n",
    "                return True\n",
    "            except InvalidOperation:\n",
    "                return False\n",
    "\n",
    "    # Handle cases like \"4.6x\" (multiplication or \"times\" notation)\n",
    "    if value.endswith('x') or value.endswith('X'):\n",
    "        value = value[:-1]  # Remove the 'x'\n",
    "        try:\n",
    "            Decimal(value)  # Try parsing as a decimal number\n",
    "            return True\n",
    "        except InvalidOperation:\n",
    "            return False\n",
    "\n",
    "    # Attempt to parse the value as a decimal or integer\n",
    "    try:\n",
    "        Decimal(value)  # Try parsing as a decimal number\n",
    "        return True\n",
    "    except InvalidOperation:\n",
    "        return False"
   ]
  },
  {
   "cell_type": "code",
   "execution_count": null,
   "metadata": {},
   "outputs": [],
   "source": [
    "\n",
    "\n",
    "\n"
   ]
  },
  {
   "cell_type": "code",
   "execution_count": null,
   "metadata": {},
   "outputs": [],
   "source": [
    "kg = KnowledgeGraph(is_seeker = lambda x: is_number_like(x['Text']), is_truth = lambda x: is_number_like(x['Text']), textract_obj = all_blocks)\n",
    "\n",
    "def seeker_and_truther_have_identical_value(seeker: Seeker, truther: Truther, knowledge_graph):\n",
    "    return seeker.value == truther.value\n",
    "\n",
    "def seeker_and_truther_have_similar_values(seeker: Seeker, truther: Truther, knowledge_graph):\n",
    "    return False\n",
    "\n",
    "def seeker_and_truther_in_same_paragraph(seeker, truther, knoweledge_graph):\n",
    "    return False\n",
    "\n",
    "def seeker_and_truther_same_page(seeker: Seeker, truther: Truther, knowledge_graph):\n",
    "    return seeker.page_num == truther.page_num\n",
    "\n",
    "attribute_list = [\n",
    "    seeker_and_truther_have_identical_value,\n",
    "    seeker_and_truther_have_similar_values,\n",
    "    seeker_and_truther_in_same_paragraph,\n",
    "    seeker_and_truther_same_page\n",
    "]\n",
    "\n",
    "calculated_probabilities = kg.calculate_probabilities(attribute_list = attribute_list, labels = {\"c6e2331e-6b14-4b65-bce7-100df7879e27\":[\"3b2e21f7-d15a-4395-aeb4-0a5d39cef1f1\"],\"6a900196-08d9-4bed-9372-6e4ec48ff557\":[\"ecb8e6ff-b9a1-4ba0-be42-747ea8fb0448\"],\"39eaf6ce-908b-4357-b011-33495abc2312\":[\"befefef0-dcb2-4d0c-879e-98b8ea17521c\"],\"a7d5e164-bbd5-4ac1-a4e0-e3c7f1003032\":[\"1af18482-1d2c-4a8e-8558-01d8f5eded51\"],\"97a6837d-46a2-4a07-a2f6-41a24fdc64d5\":[\"eda780ae-0a32-4acb-8db9-5358970cd1e9\"],\"791f5dfd-0803-49e5-a042-f05bd13cfcea\":[\"448d44e9-906a-408c-bb96-9612505b987d\"],\"c7612bc9-423c-4ac6-b097-e1c5865151f8\":[\"3b2e21f7-d15a-4395-aeb4-0a5d39cef1f1\"],\"7bd524c3-ff16-48d2-a10a-a965bf2a124f\":[\"ecb8e6ff-b9a1-4ba0-be42-747ea8fb0448\"],\"fe5bc0ab-5021-4f7f-8f3f-885468216175\":[\"befefef0-dcb2-4d0c-879e-98b8ea17521c\"]})\n",
    "reward_function = RewardFunction(calculated_probabilities)"
   ]
  },
  {
   "cell_type": "code",
   "execution_count": null,
   "metadata": {},
   "outputs": [],
   "source": [
    "labels = {\"c6e2331e-6b14-4b65-bce7-100df7879e27\":[\"3b2e21f7-d15a-4395-aeb4-0a5d39cef1f1\"],\"6a900196-08d9-4bed-9372-6e4ec48ff557\":[\"ecb8e6ff-b9a1-4ba0-be42-747ea8fb0448\"],\"39eaf6ce-908b-4357-b011-33495abc2312\":[\"befefef0-dcb2-4d0c-879e-98b8ea17521c\"],\"a7d5e164-bbd5-4ac1-a4e0-e3c7f1003032\":[\"1af18482-1d2c-4a8e-8558-01d8f5eded51\"],\"97a6837d-46a2-4a07-a2f6-41a24fdc64d5\":[\"eda780ae-0a32-4acb-8db9-5358970cd1e9\"],\"791f5dfd-0803-49e5-a042-f05bd13cfcea\":[\"448d44e9-906a-408c-bb96-9612505b987d\"],\"c7612bc9-423c-4ac6-b097-e1c5865151f8\":[\"3b2e21f7-d15a-4395-aeb4-0a5d39cef1f1\"],\"7bd524c3-ff16-48d2-a10a-a965bf2a124f\":[\"ecb8e6ff-b9a1-4ba0-be42-747ea8fb0448\"],\"fe5bc0ab-5021-4f7f-8f3f-885468216175\":[\"befefef0-dcb2-4d0c-879e-98b8ea17521c\"]}\n",
    "h = {}\n",
    "for x in labels:\n",
    "    h[kg.nodes[x]['Text']] = [kg.nodes[kg.nodes[y]['Relationships'][0]['Ids'][0]]['Text'] for y in labels[x]]\n",
    "\n",
    "for x in h:\n",
    "    if x in h[x]:\n",
    "        print(\"identity match\")"
   ]
  },
  {
   "cell_type": "code",
   "execution_count": null,
   "metadata": {},
   "outputs": [],
   "source": [
    "a = set([kg.nodes[i.Id]['Text'] for i in kg.truths])"
   ]
  },
  {
   "cell_type": "code",
   "execution_count": null,
   "metadata": {},
   "outputs": [],
   "source": [
    "b = set([kg.nodes[i.Id]['Text'] for i in kg.seekers])"
   ]
  },
  {
   "cell_type": "code",
   "execution_count": null,
   "metadata": {},
   "outputs": [],
   "source": [
    "a.intersection(b)"
   ]
  },
  {
   "cell_type": "code",
   "execution_count": null,
   "metadata": {},
   "outputs": [],
   "source": [
    "calculated_probabilities"
   ]
  },
  {
   "cell_type": "code",
   "execution_count": null,
   "metadata": {},
   "outputs": [],
   "source": [
    "[kg.nodes[i.Id]['Text'] for i in kg.seekers]"
   ]
  }
 ],
 "metadata": {
  "kernelspec": {
   "display_name": "ZenCheckKG",
   "language": "python",
   "name": "python3"
  },
  "language_info": {
   "codemirror_mode": {
    "name": "ipython",
    "version": 3
   },
   "file_extension": ".py",
   "mimetype": "text/x-python",
   "name": "python",
   "nbconvert_exporter": "python",
   "pygments_lexer": "ipython3",
   "version": "3.12.6"
  }
 },
 "nbformat": 4,
 "nbformat_minor": 2
}
