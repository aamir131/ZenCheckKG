{
 "cells": [
  {
   "cell_type": "code",
   "execution_count": 1,
   "metadata": {},
   "outputs": [],
   "source": [
    "import boto3\n",
    "import time\n",
    "from SeekerTruther import Seeker, Truther\n",
    "import KnowledgeGraph as kg\n",
    "from SeekerTruther import Seeker, Truther\n",
    "from RewardFunction import RewardFunction\n",
    "from dotenv import load_dotenv\n",
    "import os"
   ]
  },
  {
   "cell_type": "code",
   "execution_count": 2,
   "metadata": {},
   "outputs": [],
   "source": [
    "load_dotenv()\n",
    "textract = boto3.client(\n",
    "    'textract',\n",
    "    aws_access_key_id=os.environ['AWS_ACCESS_KEY_ID'],\n",
    "    aws_secret_access_key=os.environ['AWS_SECRET_ACCESS_KEY'],\n",
    "    region_name='eu-west-2'\n",
    ")\n",
    "\n",
    "# Specify S3 bucket and document details\n",
    "bucket_name = 'knowledge-graph-test-examples'\n",
    "document_name = 'KPMG-TL-FDD-Report-Aug-2020.pdf'"
   ]
  },
  {
   "cell_type": "code",
   "execution_count": 3,
   "metadata": {},
   "outputs": [
    {
     "name": "stdout",
     "output_type": "stream",
     "text": [
      "Started Textract job with JobId: 31466b1a2898aebd4616bf6ce577fa4b1d80bab72ba3dd638fede03cb54e8bf2\n",
      "Waiting for job to complete...\n",
      "Waiting for job to complete...\n",
      "Waiting for job to complete...\n",
      "Waiting for job to complete...\n",
      "Waiting for job to complete...\n",
      "Waiting for job to complete...\n",
      "Waiting for job to complete...\n",
      "Waiting for job to complete...\n",
      "Waiting for job to complete...\n",
      "Waiting for job to complete...\n",
      "Waiting for job to complete...\n",
      "Job status: SUCCEEDED\n"
     ]
    }
   ],
   "source": [
    "# Step 1: Start the Document Analysis Job\n",
    "response = textract.start_document_analysis(\n",
    "    DocumentLocation={'S3Object': {'Bucket': bucket_name, 'Name': document_name}},\n",
    "    FeatureTypes=['TABLES', 'LAYOUT']\n",
    ")\n",
    "\n",
    "job_id = response['JobId']\n",
    "print(f\"Started Textract job with JobId: {job_id}\")\n",
    "\n",
    "# Step 2: Poll for Job Completion\n",
    "while True:\n",
    "    status = textract.get_document_analysis(JobId=job_id)\n",
    "    status_value = status['JobStatus']\n",
    "    if status_value in ['SUCCEEDED', 'FAILED']:\n",
    "        print(f\"Job status: {status_value}\")\n",
    "        break\n",
    "    print(\"Waiting for job to complete...\")\n",
    "    time.sleep(5)\n",
    "\n",
    "all_blocks = []\n",
    "if status_value == 'SUCCEEDED':\n",
    "    # Step 3: Retrieve and Process Results\n",
    "    next_token = None\n",
    "    while True:\n",
    "        response = textract.get_document_analysis(JobId=job_id, NextToken=next_token) if next_token else textract.get_document_analysis(JobId=job_id)\n",
    "        all_blocks.extend(response['Blocks'])\n",
    "        if 'NextToken' not in response:\n",
    "            break\n",
    "        next_token = response['NextToken']"
   ]
  },
  {
   "cell_type": "code",
   "execution_count": 4,
   "metadata": {},
   "outputs": [],
   "source": [
    "all_block_types = set()\n",
    "for b in all_blocks:\n",
    "    all_block_types.add(b['BlockType'])\n",
    "    "
   ]
  },
  {
   "cell_type": "code",
   "execution_count": null,
   "metadata": {},
   "outputs": [
    {
     "name": "stdout",
     "output_type": "stream",
     "text": [
      "[{'Type': 'CHILD', 'Ids': ['65bbf452-08e4-4df0-b85c-03b75db1dbe2', '91eef293-a279-4ccb-9b25-704fc8e48e0b', 'bd9ba013-2446-4d19-923b-3016e11a1fbe', 'a50fc03f-7d07-4956-8133-c9c095160d23', 'f4a30e91-6831-4edb-9bae-607925680253', '9371b0c3-205d-4418-b759-8795fe030455', '6c209ebf-0f4b-4e80-94f9-a790559c5abf', '110d7644-f89a-4efd-9449-e2b502f1124b', '457e70d2-7c84-418a-86a6-655ca353ee0e', '655947d0-c7b3-450a-b812-2a3326906be1', '733f23b0-645c-488f-a73b-f3c18348533b', 'c2c1fb50-a8fa-45e7-bb23-61d1a9465944']}, {'Type': 'MERGED_CELL', 'Ids': ['7c13b269-3c93-4eac-86fd-aea1b72bf769', '09c9059b-74f7-4d34-baa9-8a8b7e9a81a6']}, {'Type': 'TABLE_TITLE', 'Ids': ['97352a7e-6031-4e2a-a223-b07d34b89bf8']}, {'Type': 'TABLE_FOOTER', 'Ids': ['17fb9e8b-08c0-4020-ac22-9f753f9ce46e']}]\n"
     ]
    }
   ],
   "source": [
    "for b in all_blocks:\n",
    "    if b['BlockType'] == 'TABLE':\n",
    "        if len(b['Relationships']) > 3:\n",
    "            print(b['Relationships'])\n",
    "            break"
   ]
  },
  {
   "cell_type": "code",
   "execution_count": 6,
   "metadata": {},
   "outputs": [
    {
     "ename": "KeyError",
     "evalue": "'Relationships'",
     "output_type": "error",
     "traceback": [
      "\u001b[0;31m---------------------------------------------------------------------------\u001b[0m",
      "\u001b[0;31mKeyError\u001b[0m                                  Traceback (most recent call last)",
      "Cell \u001b[0;32mIn[6], line 1\u001b[0m\n\u001b[0;32m----> 1\u001b[0m kg \u001b[38;5;241m=\u001b[39m \u001b[43mkg\u001b[49m\u001b[38;5;241;43m.\u001b[39;49m\u001b[43mKnowledgeGraph\u001b[49m\u001b[43m(\u001b[49m\u001b[43mis_seeker\u001b[49m\u001b[43m \u001b[49m\u001b[38;5;241;43m=\u001b[39;49m\u001b[43m \u001b[49m\u001b[38;5;28;43;01mlambda\u001b[39;49;00m\u001b[43m \u001b[49m\u001b[43mx\u001b[49m\u001b[43m:\u001b[49m\u001b[43m \u001b[49m\u001b[43mx\u001b[49m\u001b[38;5;241;43m.\u001b[39;49m\u001b[43misnumeric\u001b[49m\u001b[43m(\u001b[49m\u001b[43m)\u001b[49m\u001b[43m,\u001b[49m\u001b[43m \u001b[49m\u001b[43mis_truth\u001b[49m\u001b[43m \u001b[49m\u001b[38;5;241;43m=\u001b[39;49m\u001b[43m \u001b[49m\u001b[38;5;28;43;01mlambda\u001b[39;49;00m\u001b[43m \u001b[49m\u001b[43mx\u001b[49m\u001b[43m:\u001b[49m\u001b[43m \u001b[49m\u001b[43mx\u001b[49m\u001b[38;5;241;43m.\u001b[39;49m\u001b[43misnumeric\u001b[49m\u001b[43m(\u001b[49m\u001b[43m)\u001b[49m\u001b[43m,\u001b[49m\u001b[43m \u001b[49m\u001b[43mtextract_obj\u001b[49m\u001b[43m \u001b[49m\u001b[38;5;241;43m=\u001b[39;49m\u001b[43m \u001b[49m\u001b[43mall_blocks\u001b[49m\u001b[43m)\u001b[49m\n\u001b[1;32m      3\u001b[0m \u001b[38;5;28;01mdef\u001b[39;00m \u001b[38;5;21mseeker_and_truther_have_identical_value\u001b[39m(seeker, truther, knowledge_graph):\n\u001b[1;32m      4\u001b[0m     \u001b[38;5;28;01mreturn\u001b[39;00m knowledge_graph\u001b[38;5;241m.\u001b[39mnodes[seeker][\u001b[38;5;124m'\u001b[39m\u001b[38;5;124mText\u001b[39m\u001b[38;5;124m'\u001b[39m] \u001b[38;5;241m==\u001b[39m knowledge_graph\u001b[38;5;241m.\u001b[39mnodes[truther][\u001b[38;5;124m'\u001b[39m\u001b[38;5;124mText\u001b[39m\u001b[38;5;124m'\u001b[39m]\n",
      "File \u001b[0;32m~/work/ZenCheckKG/KnowledgeGraph.py:10\u001b[0m, in \u001b[0;36mKnowledgeGraph.__init__\u001b[0;34m(self, is_seeker, is_truth, textract_obj)\u001b[0m\n\u001b[1;32m      6\u001b[0m \u001b[38;5;28mself\u001b[39m\u001b[38;5;241m.\u001b[39mseekers, \u001b[38;5;28mself\u001b[39m\u001b[38;5;241m.\u001b[39mtruths \u001b[38;5;241m=\u001b[39m [], []\n\u001b[1;32m      8\u001b[0m \u001b[38;5;28mself\u001b[39m\u001b[38;5;241m.\u001b[39mnodes \u001b[38;5;241m=\u001b[39m {} \u001b[38;5;66;03m# amazon textract id: textract dictionary object\u001b[39;00m\n\u001b[0;32m---> 10\u001b[0m \u001b[38;5;28;43mself\u001b[39;49m\u001b[38;5;241;43m.\u001b[39;49m\u001b[43mfill_knowledge_graph\u001b[49m\u001b[43m(\u001b[49m\u001b[43mtextract_obj\u001b[49m\u001b[43m)\u001b[49m\n\u001b[1;32m     11\u001b[0m \u001b[38;5;28mself\u001b[39m\u001b[38;5;241m.\u001b[39mextract_seekers()\n\u001b[1;32m     12\u001b[0m \u001b[38;5;28mself\u001b[39m\u001b[38;5;241m.\u001b[39mextract_truths()\n",
      "File \u001b[0;32m~/work/ZenCheckKG/KnowledgeGraph.py:19\u001b[0m, in \u001b[0;36mKnowledgeGraph.fill_knowledge_graph\u001b[0;34m(self, textract_obj)\u001b[0m\n\u001b[1;32m     17\u001b[0m \u001b[38;5;28;01mfor\u001b[39;00m block \u001b[38;5;129;01min\u001b[39;00m textract_obj:\n\u001b[1;32m     18\u001b[0m     \u001b[38;5;28mself\u001b[39m\u001b[38;5;241m.\u001b[39mnodes[block[\u001b[38;5;124m'\u001b[39m\u001b[38;5;124mId\u001b[39m\u001b[38;5;124m'\u001b[39m]] \u001b[38;5;241m=\u001b[39m block\n\u001b[0;32m---> 19\u001b[0m     \u001b[38;5;28;01mfor\u001b[39;00m rel \u001b[38;5;129;01min\u001b[39;00m \u001b[43mblock\u001b[49m\u001b[43m[\u001b[49m\u001b[38;5;124;43m'\u001b[39;49m\u001b[38;5;124;43mRelationships\u001b[39;49m\u001b[38;5;124;43m'\u001b[39;49m\u001b[43m]\u001b[49m:\n\u001b[1;32m     20\u001b[0m         \u001b[38;5;28;01mif\u001b[39;00m rel[\u001b[38;5;124m'\u001b[39m\u001b[38;5;124mType\u001b[39m\u001b[38;5;124m'\u001b[39m] \u001b[38;5;241m==\u001b[39m \u001b[38;5;124m'\u001b[39m\u001b[38;5;124mCHILD\u001b[39m\u001b[38;5;124m'\u001b[39m:\n\u001b[1;32m     21\u001b[0m             child_parent\u001b[38;5;241m.\u001b[39mappend((rel[\u001b[38;5;124m'\u001b[39m\u001b[38;5;124mIds\u001b[39m\u001b[38;5;124m'\u001b[39m][\u001b[38;5;241m0\u001b[39m], block[\u001b[38;5;124m'\u001b[39m\u001b[38;5;124mId\u001b[39m\u001b[38;5;124m'\u001b[39m]))\n",
      "\u001b[0;31mKeyError\u001b[0m: 'Relationships'"
     ]
    }
   ],
   "source": [
    "\n",
    "kg = kg.KnowledgeGraph(is_seeker = lambda x: x.isnumeric(), is_truth = lambda x: x.isnumeric(), textract_obj = all_blocks)\n",
    "\n",
    "def seeker_and_truther_have_identical_value(seeker, truther, knowledge_graph):\n",
    "    return knowledge_graph.nodes[seeker]['Text'] == knowledge_graph.nodes[truther]['Text']\n",
    "\n",
    "calculated_probabilities = kg.calculate_probabilities(attribute_list = [seeker_and_truther_have_identical_value], labels = [])\n",
    "reward_function = RewardFunction(calculated_probabilities)\n",
    "\n",
    "\n",
    "\n",
    "\n"
   ]
  }
 ],
 "metadata": {
  "kernelspec": {
   "display_name": "ZenCheckKG",
   "language": "python",
   "name": "python3"
  },
  "language_info": {
   "codemirror_mode": {
    "name": "ipython",
    "version": 3
   },
   "file_extension": ".py",
   "mimetype": "text/x-python",
   "name": "python",
   "nbconvert_exporter": "python",
   "pygments_lexer": "ipython3",
   "version": "3.12.6"
  }
 },
 "nbformat": 4,
 "nbformat_minor": 2
}
