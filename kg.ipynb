{
 "cells": [
  {
   "cell_type": "code",
   "execution_count": 1,
   "metadata": {},
   "outputs": [],
   "source": [
    "import boto3\n",
    "import time\n",
    "import os\n",
    "import re\n",
    "from decimal import Decimal, InvalidOperation\n",
    "\n",
    "from dotenv import load_dotenv\n",
    "\n",
    "from SeekerTruther import Seeker, Truther\n",
    "from KnowledgeGraph import KnowledgeGraph\n",
    "from SeekerTruther import Seeker, Truther\n",
    "from RewardFunction import RewardFunction"
   ]
  },
  {
   "cell_type": "code",
   "execution_count": 2,
   "metadata": {},
   "outputs": [],
   "source": [
    "load_dotenv()\n",
    "textract = boto3.client(\n",
    "    'textract',\n",
    "    aws_access_key_id=os.environ['AWS_ACCESS_KEY_ID'],\n",
    "    aws_secret_access_key=os.environ['AWS_SECRET_ACCESS_KEY'],\n",
    "    region_name='ap-southeast-2'\n",
    ")\n",
    "\n",
    "bucket_name = 'knowledge-graph-test-examples'\n",
    "document_name = 'KPMG-TL-FDD-Report-Aug-2020.pdf'"
   ]
  },
  {
   "cell_type": "code",
   "execution_count": 3,
   "metadata": {},
   "outputs": [],
   "source": [
    "#response = textract.start_document_analysis(\n",
    "#    DocumentLocation={'S3Object': {'Bucket': bucket_name, 'Name': document_name}},\n",
    "#    FeatureTypes=['TABLES', 'LAYOUT']\n",
    "#)\n",
    "#\n",
    "#job_id = response['JobId']\n",
    "#print(f\"Started Textract job with JobId: {job_id}\")\n",
    "#\n",
    "#while True:\n",
    "#    status = textract.get_document_analysis(JobId=job_id)\n",
    "#    status_value = status['JobStatus']\n",
    "#    if status_value in ['SUCCEEDED', 'FAILED']:\n",
    "#        print(f\"Job status: {status_value}\")\n",
    "#        break\n",
    "#    print(\"Waiting for job to complete...\")\n",
    "#    time.sleep(5)\n",
    "#\n",
    "#all_blocks = []\n",
    "#if status_value == 'SUCCEEDED':\n",
    "#    next_token = None\n",
    "#    while True:\n",
    "#        response = textract.get_document_analysis(JobId=job_id, NextToken=next_token) if next_token else textract.get_document_analysis(JobId=job_id)\n",
    "#        all_blocks.extend(response['Blocks'])\n",
    "#        if 'NextToken' not in response:\n",
    "#            break\n",
    "#        next_token = response['NextToken']"
   ]
  },
  {
   "cell_type": "code",
   "execution_count": 4,
   "metadata": {},
   "outputs": [],
   "source": [
    "#job_id = 'ff1bbae7d96c6078c61694a7b0df46bd4a37abc7595d3797c2f4d444e8e96046'\n",
    "#job_id = \"d15fce4acd2dba24af37f03e7d82f97cf2b0b73d2778309415f6a140b1dad0e0\"\n",
    "\n",
    "job_ids = [\"b4a68e56c2764095d6e9fd5c0621ff9e4e849f03101c7b575fc500b75e5bb88d\",\n",
    "           \"acb3d623f9aba1aa7024f941be24b2dd707c4beb1edafd685eb7709f4af2fd42\"]\n",
    "\n",
    "all_blocks = []\n",
    "next_token = None\n",
    "for job_id in job_ids:\n",
    "    while True:\n",
    "        response = textract.get_document_analysis(JobId=job_id, NextToken=next_token) if next_token else textract.get_document_analysis(JobId=job_id)\n",
    "        all_blocks.extend(response['Blocks'])\n",
    "        if 'NextToken' not in response: break\n",
    "        next_token = response['NextToken']\n",
    "\n"
   ]
  },
  {
   "cell_type": "code",
   "execution_count": 5,
   "metadata": {},
   "outputs": [],
   "source": [
    "def is_number_like(value: str) -> bool:\n",
    "    \"\"\"Returns True if the value is 'number-like'.\"\"\"\n",
    "    \n",
    "    # Strip whitespace\n",
    "    value = value.strip()\n",
    "\n",
    "    # Check for empty string\n",
    "    if not value:\n",
    "        return False\n",
    "    \n",
    "    # Handle percentages: remove percentage sign and check if the remaining string is a number\n",
    "    if value.endswith('%'):\n",
    "        value = value[:-1]  # Remove the '%' sign\n",
    "        try:\n",
    "            Decimal(value)  # Try parsing as a decimal\n",
    "            return True\n",
    "        except InvalidOperation:\n",
    "            return False\n",
    "\n",
    "    # Handle currency symbols: remove common symbols like £, $, €, etc.\n",
    "    value = value.replace('£', '').replace('$', '').replace('€', '').replace('₹', '')\n",
    "    \n",
    "    # Remove commas for numbers with thousands separators\n",
    "    value = value.replace(',', '')\n",
    "    \n",
    "    # Handle 'million', 'billion', etc. (by multiplying by corresponding factors)\n",
    "    multipliers = {\n",
    "        'million': 1_000_000,\n",
    "        'billion': 1_000_000_000,\n",
    "        'thousand': 1_000,\n",
    "        'k': 1_000,\n",
    "        'm': 1_000_000,\n",
    "        'b': 1_000_000_000,\n",
    "    }\n",
    "    \n",
    "    # Check if the string ends with one of the multipliers\n",
    "    for suffix, multiplier in multipliers.items():\n",
    "        if value.lower().endswith(suffix):\n",
    "            try:\n",
    "                num_part = value.lower().replace(suffix, '').strip()\n",
    "                num = Decimal(num_part) * multiplier\n",
    "                return True\n",
    "            except InvalidOperation:\n",
    "                return False\n",
    "\n",
    "    # Handle cases like \"4.6x\" (multiplication or \"times\" notation)\n",
    "    if value.endswith('x') or value.endswith('X'):\n",
    "        value = value[:-1]  # Remove the 'x'\n",
    "        try:\n",
    "            Decimal(value)  # Try parsing as a decimal number\n",
    "            return True\n",
    "        except InvalidOperation:\n",
    "            return False\n",
    "\n",
    "    # Attempt to parse the value as a decimal or integer\n",
    "    try:\n",
    "        Decimal(value)  # Try parsing as a decimal number\n",
    "        return True\n",
    "    except InvalidOperation:\n",
    "        return False\n",
    "    \n",
    "def normalize_number(value: str) -> Decimal:\n",
    "    value = value.strip()\n",
    "    if not value:\n",
    "        return Decimal('NaN')\n",
    "    if value.endswith('%'):\n",
    "        value = value[:-1]\n",
    "        try:\n",
    "            return Decimal(value) / 100\n",
    "        except InvalidOperation:\n",
    "            return Decimal('NaN')\n",
    "    value = value.lstrip('+')\n",
    "    value = value.replace('£', '').replace('$', '').replace('€', '').replace('₹', '')\n",
    "    value = value.replace(',', '')\n",
    "    multipliers = {\n",
    "        'million': 1_000_000,\n",
    "        'billion': 1_000_000_000,\n",
    "        'thousand': 1_000,\n",
    "        'k': 1_000,\n",
    "        'm': 1_000_000,\n",
    "        'b': 1_000_000_000,\n",
    "    }\n",
    "    for suffix, multiplier in multipliers.items():\n",
    "        if value.lower().endswith(suffix):\n",
    "            num_part = value.lower().replace(suffix, '').strip()\n",
    "            try:\n",
    "                return Decimal(num_part) * multiplier\n",
    "            except InvalidOperation:\n",
    "                return Decimal('NaN')\n",
    "    if value.endswith('x') or value.endswith('X'):\n",
    "        value = value[:-1]\n",
    "        try:\n",
    "            return Decimal(value)\n",
    "        except InvalidOperation:\n",
    "            return Decimal('NaN')\n",
    "    try:\n",
    "        return Decimal(value)\n",
    "    except InvalidOperation:\n",
    "        return Decimal('NaN')"
   ]
  },
  {
   "cell_type": "code",
   "execution_count": null,
   "metadata": {},
   "outputs": [],
   "source": [
    "kg = KnowledgeGraph(is_seeker = lambda x: is_number_like(x['Text']), is_truth = lambda x: is_number_like(x['Text']), textract_obj = all_blocks)\n",
    "\n",
    "def seeker_and_truther_have_identical_value(seeker: Seeker, truther: Truther, knowledge_graph):\n",
    "    return seeker.value == truther.value\n",
    "\n",
    "def seeker_and_truther_have_similar_values(seeker: Seeker, truther: Truther, knowledge_graph):\n",
    "    normalized_num1 = normalize_number(seeker.value)\n",
    "    normalized_num2 = normalize_number(truther.value)\n",
    "    return normalized_num1 == normalized_num2    \n",
    "\n",
    "def seeker_and_truther_same_page(seeker: Seeker, truther: Truther, knowledge_graph):\n",
    "    return seeker.page_num == truther.page_num\n",
    "\n",
    "def seekers_in_same_para_truthers_in_same_table_count(count):\n",
    "    def matching(seeker: Seeker, Truther: Truther):\n",
    "        # Get the paragraph that the seeker is in\n",
    "        # Get all the seekers that are that paragraph\n",
    "        # Get how many in that paragraph are also in the table\n",
    "        # If the number of ones that are similar (have another one for exact copy) is equal to count, then the match occurs\n",
    "    \n",
    "        \n",
    "        \n",
    "\n",
    "attribute_list = [\n",
    "    seeker_and_truther_have_identical_value,\n",
    "    seeker_and_truther_have_similar_values,\n",
    "    seeker_and_truther_same_page\n",
    "]\n",
    "\n",
    "calculated_probabilities = kg.calculate_probabilities(attribute_list = attribute_list, labels = {\"c6e2331e-6b14-4b65-bce7-100df7879e27\":[\"3b2e21f7-d15a-4395-aeb4-0a5d39cef1f1\"],\"6a900196-08d9-4bed-9372-6e4ec48ff557\":[\"ecb8e6ff-b9a1-4ba0-be42-747ea8fb0448\"],\"39eaf6ce-908b-4357-b011-33495abc2312\":[\"befefef0-dcb2-4d0c-879e-98b8ea17521c\"],\"a7d5e164-bbd5-4ac1-a4e0-e3c7f1003032\":[\"1af18482-1d2c-4a8e-8558-01d8f5eded51\"],\"97a6837d-46a2-4a07-a2f6-41a24fdc64d5\":[\"eda780ae-0a32-4acb-8db9-5358970cd1e9\"],\"791f5dfd-0803-49e5-a042-f05bd13cfcea\":[\"448d44e9-906a-408c-bb96-9612505b987d\"],\"c7612bc9-423c-4ac6-b097-e1c5865151f8\":[\"3b2e21f7-d15a-4395-aeb4-0a5d39cef1f1\"],\"7bd524c3-ff16-48d2-a10a-a965bf2a124f\":[\"ecb8e6ff-b9a1-4ba0-be42-747ea8fb0448\"],\"fe5bc0ab-5021-4f7f-8f3f-885468216175\":[\"befefef0-dcb2-4d0c-879e-98b8ea17521c\"]})\n",
    "reward_function = RewardFunction(calculated_probabilities)"
   ]
  },
  {
   "cell_type": "code",
   "execution_count": 7,
   "metadata": {},
   "outputs": [
    {
     "name": "stdout",
     "output_type": "stream",
     "text": [
      "+7.3% ['7.3%']\n",
      "+6.4% ['6.4%']\n",
      "+4.3%, ['4.3%']\n",
      "+9.5%, ['9.5%']\n",
      "+12.5%, ['12.5%']\n",
      "+14.4%, ['14.4%']\n",
      "7.3% ['7.3%']\n",
      "6.4% ['6.4%']\n",
      "4.3% ['4.3%']\n"
     ]
    }
   ],
   "source": [
    "labels = {\"c6e2331e-6b14-4b65-bce7-100df7879e27\":[\"3b2e21f7-d15a-4395-aeb4-0a5d39cef1f1\"],\"6a900196-08d9-4bed-9372-6e4ec48ff557\":[\"ecb8e6ff-b9a1-4ba0-be42-747ea8fb0448\"],\"39eaf6ce-908b-4357-b011-33495abc2312\":[\"befefef0-dcb2-4d0c-879e-98b8ea17521c\"],\"a7d5e164-bbd5-4ac1-a4e0-e3c7f1003032\":[\"1af18482-1d2c-4a8e-8558-01d8f5eded51\"],\"97a6837d-46a2-4a07-a2f6-41a24fdc64d5\":[\"eda780ae-0a32-4acb-8db9-5358970cd1e9\"],\"791f5dfd-0803-49e5-a042-f05bd13cfcea\":[\"448d44e9-906a-408c-bb96-9612505b987d\"],\"c7612bc9-423c-4ac6-b097-e1c5865151f8\":[\"3b2e21f7-d15a-4395-aeb4-0a5d39cef1f1\"],\"7bd524c3-ff16-48d2-a10a-a965bf2a124f\":[\"ecb8e6ff-b9a1-4ba0-be42-747ea8fb0448\"],\"fe5bc0ab-5021-4f7f-8f3f-885468216175\":[\"befefef0-dcb2-4d0c-879e-98b8ea17521c\"]}\n",
    "h = {}\n",
    "for x in labels:\n",
    "    h[kg.nodes[x]['Text']] = [kg.nodes[kg.nodes[y]['Relationships'][0]['Ids'][0]]['Text'] for y in labels[x]]\n",
    "\n",
    "for i,j in h.items():\n",
    "    print(i, j)"
   ]
  },
  {
   "cell_type": "code",
   "execution_count": 8,
   "metadata": {},
   "outputs": [
    {
     "data": {
      "text/plain": [
       "{8: 0.0, 10: 1.0, 11: 0.75}"
      ]
     },
     "execution_count": 8,
     "metadata": {},
     "output_type": "execute_result"
    }
   ],
   "source": [
    "calculated_probabilities"
   ]
  },
  {
   "cell_type": "code",
   "execution_count": 9,
   "metadata": {},
   "outputs": [
    {
     "data": {
      "text/plain": [
       "['2024',\n",
       " '2024.',\n",
       " '2024',\n",
       " '+7.3%',\n",
       " '+6.4%',\n",
       " '2024',\n",
       " '£500',\n",
       " '£1',\n",
       " '$1.25',\n",
       " '31',\n",
       " '2024',\n",
       " '1',\n",
       " '2024',\n",
       " '7.3%',\n",
       " '6.4%',\n",
       " '4.3%',\n",
       " '2']"
      ]
     },
     "execution_count": 9,
     "metadata": {},
     "output_type": "execute_result"
    }
   ],
   "source": [
    "[kg.nodes[i.Id]['Text'] for i in kg.seekers]"
   ]
  },
  {
   "cell_type": "code",
   "execution_count": 10,
   "metadata": {},
   "outputs": [
    {
     "name": "stdout",
     "output_type": "stream",
     "text": [
      "+7.3% 7.3%\n",
      "+6.4% 6.4%\n",
      "7.3% 7.3%\n",
      "6.4% 6.4%\n",
      "4.3% 4.3%\n",
      "4.3% 4.3%\n"
     ]
    }
   ],
   "source": [
    "for s in kg.seekers:\n",
    "    for t in kg.truths:\n",
    "        if seeker_and_truther_have_similar_values(s, t, kg):\n",
    "            print(s.value, t.value)"
   ]
  },
  {
   "cell_type": "code",
   "execution_count": 13,
   "metadata": {},
   "outputs": [
    {
     "name": "stdout",
     "output_type": "stream",
     "text": [
      "('c599654d-5636-4c27-8f4c-a4cacc4eaa80', '4903b275-b4a7-48f6-8088-dd4760d3c2e4', '4903b275-b4a7-48f6-8088-dd4760d3c2e4')\n",
      "('031ee6bf-6696-49a1-8ca8-11ab05257fba', '4903b275-b4a7-48f6-8088-dd4760d3c2e4', '4903b275-b4a7-48f6-8088-dd4760d3c2e4')\n",
      "('3e53e644-b2ff-467b-906a-5695a2bde8b9', 'd6f0f6cf-0d82-4196-949c-cf9dd7457baa', '4903b275-b4a7-48f6-8088-dd4760d3c2e4')\n",
      "('e909d394-b371-4943-a6dc-17ca0d8ad794', '4903b275-b4a7-48f6-8088-dd4760d3c2e4', '4903b275-b4a7-48f6-8088-dd4760d3c2e4')\n",
      "('e909d394-b371-4943-a6dc-17ca0d8ad794', '4903b275-b4a7-48f6-8088-dd4760d3c2e4', '4903b275-b4a7-48f6-8088-dd4760d3c2e4')\n",
      "('85e85045-1d5a-4c6f-ae55-13e87ce873e2', 'b7323878-1699-4949-9c05-b81e7256c141', 'b7323878-1699-4949-9c05-b81e7256c141')\n",
      "('88fb0b8b-139e-42c7-bb53-f3e6ac9a473a', '5474e705-4e13-4782-ae0c-9cb5045b513a', '5474e705-4e13-4782-ae0c-9cb5045b513a')\n",
      "('88fb0b8b-139e-42c7-bb53-f3e6ac9a473a', '5474e705-4e13-4782-ae0c-9cb5045b513a', '5474e705-4e13-4782-ae0c-9cb5045b513a')\n",
      "('57ade3ed-633e-4f62-8054-74a0d4c166b2', '5474e705-4e13-4782-ae0c-9cb5045b513a', '5474e705-4e13-4782-ae0c-9cb5045b513a')\n",
      "('2a370297-1e6e-4a0b-b26a-da31232093b6', '16f3eb3f-1c61-4383-b90a-ece089e68460', '16f3eb3f-1c61-4383-b90a-ece089e68460')\n",
      "('2a370297-1e6e-4a0b-b26a-da31232093b6', '16f3eb3f-1c61-4383-b90a-ece089e68460', '16f3eb3f-1c61-4383-b90a-ece089e68460')\n",
      "('d7a566d6-f098-4a6d-bb5a-d131fc2af950', '10ab5e08-9c4d-4b5d-94cf-1c5c8450e480', '4903b275-b4a7-48f6-8088-dd4760d3c2e4')\n",
      "('62e7d8e1-d8e6-4664-a890-b5c565912d93', None, '62e7d8e1-d8e6-4664-a890-b5c565912d93')\n",
      "('92d47ffa-8397-406e-b0a9-3d32e91b3e5b', None, '92d47ffa-8397-406e-b0a9-3d32e91b3e5b')\n",
      "('92d47ffa-8397-406e-b0a9-3d32e91b3e5b', None, '92d47ffa-8397-406e-b0a9-3d32e91b3e5b')\n",
      "('f1ac09a8-ac5a-4ccc-bfb9-70b47f6829d9', '5e312500-fbf7-4d82-998c-a4c33f49e0bf', '5e312500-fbf7-4d82-998c-a4c33f49e0bf')\n",
      "('9ebc5483-a945-44b0-90bb-8d587956bd2c', 'deafd1be-2d0b-4031-a2a6-f10450ec3ab3', 'bfef4d92-740c-4e9d-b510-34e3150925b0')\n"
     ]
    }
   ],
   "source": [
    "for s in kg.seekers:\n",
    "    print((s.parent_id, s.grandparent_id, s.closest_layout_block_id))"
   ]
  }
 ],
 "metadata": {
  "kernelspec": {
   "display_name": "ZenCheckKG",
   "language": "python",
   "name": "python3"
  },
  "language_info": {
   "codemirror_mode": {
    "name": "ipython",
    "version": 3
   },
   "file_extension": ".py",
   "mimetype": "text/x-python",
   "name": "python",
   "nbconvert_exporter": "python",
   "pygments_lexer": "ipython3",
   "version": "3.12.6"
  }
 },
 "nbformat": 4,
 "nbformat_minor": 2
}
